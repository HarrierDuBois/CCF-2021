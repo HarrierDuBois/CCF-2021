{
 "cells": [
  {
   "cell_type": "code",
   "execution_count": 69,
   "metadata": {
    "collapsed": true
   },
   "outputs": [],
   "source": [
    "import pandas as pd\n",
    "import matplotlib.pyplot as plt\n",
    "import numpy as np\n",
    "from sklearn.model_selection import KFold\n",
    "from sklearn.metrics import roc_auc_score"
   ]
  },
  {
   "cell_type": "code",
   "execution_count": 70,
   "outputs": [],
   "source": [
    "data_bank = pd.read_csv('../1 data/new_data/train_dataset/train_public.csv')\n",
    "data_test = pd.read_csv('../1 data/new_data/test_public.csv')\n",
    "data_bank.rename(columns={'isDefault': 'is_default'}, inplace=True)\n",
    "data_test['is_default'] = -1"
   ],
   "metadata": {
    "collapsed": false,
    "pycharm": {
     "name": "#%%\n"
    }
   }
  },
  {
   "cell_type": "code",
   "execution_count": 71,
   "outputs": [
    {
     "name": "stdout",
     "output_type": "stream",
     "text": [
      "<class 'pandas.core.frame.DataFrame'>\n",
      "RangeIndex: 5000 entries, 0 to 4999\n",
      "Data columns (total 39 columns):\n",
      " #   Column                    Non-Null Count  Dtype  \n",
      "---  ------                    --------------  -----  \n",
      " 0   loan_id                   5000 non-null   int64  \n",
      " 1   user_id                   5000 non-null   int64  \n",
      " 2   total_loan                5000 non-null   float64\n",
      " 3   year_of_loan              5000 non-null   int64  \n",
      " 4   interest                  5000 non-null   float64\n",
      " 5   monthly_payment           5000 non-null   float64\n",
      " 6   class                     5000 non-null   object \n",
      " 7   employer_type             5000 non-null   object \n",
      " 8   industry                  5000 non-null   object \n",
      " 9   work_year                 4722 non-null   object \n",
      " 10  house_exist               5000 non-null   int64  \n",
      " 11  censor_status             5000 non-null   int64  \n",
      " 12  issue_date                5000 non-null   object \n",
      " 13  use                       5000 non-null   int64  \n",
      " 14  post_code                 5000 non-null   int64  \n",
      " 15  region                    5000 non-null   int64  \n",
      " 16  debt_loan_ratio           5000 non-null   float64\n",
      " 17  del_in_18month            5000 non-null   int64  \n",
      " 18  scoring_low               5000 non-null   float64\n",
      " 19  scoring_high              5000 non-null   float64\n",
      " 20  known_outstanding_loan    5000 non-null   int64  \n",
      " 21  known_dero                5000 non-null   int64  \n",
      " 22  pub_dero_bankrup          4996 non-null   float64\n",
      " 23  recircle_b                5000 non-null   float64\n",
      " 24  recircle_u                5000 non-null   float64\n",
      " 25  initial_list_status       5000 non-null   int64  \n",
      " 26  app_type                  5000 non-null   int64  \n",
      " 27  earlies_credit_mon        5000 non-null   object \n",
      " 28  title                     5000 non-null   int64  \n",
      " 29  policy_code               5000 non-null   int64  \n",
      " 30  f0                        4741 non-null   float64\n",
      " 31  f1                        4546 non-null   float64\n",
      " 32  f2                        4741 non-null   float64\n",
      " 33  f3                        4741 non-null   float64\n",
      " 34  f4                        4741 non-null   float64\n",
      " 35  early_return              5000 non-null   int64  \n",
      " 36  early_return_amount       5000 non-null   int64  \n",
      " 37  early_return_amount_3mon  5000 non-null   float64\n",
      " 38  is_default                5000 non-null   int64  \n",
      "dtypes: float64(15), int64(18), object(6)\n",
      "memory usage: 1.5+ MB\n"
     ]
    }
   ],
   "source": [
    "data_test.info()"
   ],
   "metadata": {
    "collapsed": false,
    "pycharm": {
     "name": "#%%\n"
    }
   }
  },
  {
   "cell_type": "code",
   "execution_count": 72,
   "outputs": [
    {
     "name": "stdout",
     "output_type": "stream",
     "text": [
      "<class 'pandas.core.frame.DataFrame'>\n",
      "RangeIndex: 10000 entries, 0 to 9999\n",
      "Data columns (total 39 columns):\n",
      " #   Column                    Non-Null Count  Dtype  \n",
      "---  ------                    --------------  -----  \n",
      " 0   loan_id                   10000 non-null  int64  \n",
      " 1   user_id                   10000 non-null  int64  \n",
      " 2   total_loan                10000 non-null  float64\n",
      " 3   year_of_loan              10000 non-null  int64  \n",
      " 4   interest                  10000 non-null  float64\n",
      " 5   monthly_payment           10000 non-null  float64\n",
      " 6   class                     10000 non-null  object \n",
      " 7   employer_type             10000 non-null  object \n",
      " 8   industry                  10000 non-null  object \n",
      " 9   work_year                 9378 non-null   object \n",
      " 10  house_exist               10000 non-null  int64  \n",
      " 11  censor_status             10000 non-null  int64  \n",
      " 12  issue_date                10000 non-null  object \n",
      " 13  use                       10000 non-null  int64  \n",
      " 14  post_code                 10000 non-null  int64  \n",
      " 15  region                    10000 non-null  int64  \n",
      " 16  debt_loan_ratio           10000 non-null  float64\n",
      " 17  del_in_18month            10000 non-null  int64  \n",
      " 18  scoring_low               10000 non-null  float64\n",
      " 19  scoring_high              10000 non-null  float64\n",
      " 20  known_outstanding_loan    10000 non-null  int64  \n",
      " 21  known_dero                10000 non-null  int64  \n",
      " 22  pub_dero_bankrup          9993 non-null   float64\n",
      " 23  recircle_b                10000 non-null  float64\n",
      " 24  recircle_u                10000 non-null  float64\n",
      " 25  initial_list_status       10000 non-null  int64  \n",
      " 26  app_type                  10000 non-null  int64  \n",
      " 27  earlies_credit_mon        10000 non-null  object \n",
      " 28  title                     10000 non-null  int64  \n",
      " 29  policy_code               10000 non-null  int64  \n",
      " 30  f0                        9502 non-null   float64\n",
      " 31  f1                        9142 non-null   float64\n",
      " 32  f2                        9502 non-null   float64\n",
      " 33  f3                        9502 non-null   float64\n",
      " 34  f4                        9502 non-null   float64\n",
      " 35  early_return              10000 non-null  int64  \n",
      " 36  early_return_amount       10000 non-null  int64  \n",
      " 37  early_return_amount_3mon  10000 non-null  float64\n",
      " 38  is_default                10000 non-null  int64  \n",
      "dtypes: float64(15), int64(18), object(6)\n",
      "memory usage: 3.0+ MB\n"
     ]
    }
   ],
   "source": [
    "data_bank.info()"
   ],
   "metadata": {
    "collapsed": false,
    "pycharm": {
     "name": "#%%\n"
    }
   }
  },
  {
   "cell_type": "code",
   "execution_count": 73,
   "outputs": [
    {
     "name": "stdout",
     "output_type": "stream",
     "text": [
      "<class 'pandas.core.frame.DataFrame'>\n",
      "Int64Index: 15000 entries, 0 to 4999\n",
      "Data columns (total 39 columns):\n",
      " #   Column                    Non-Null Count  Dtype  \n",
      "---  ------                    --------------  -----  \n",
      " 0   loan_id                   15000 non-null  int64  \n",
      " 1   user_id                   15000 non-null  int64  \n",
      " 2   total_loan                15000 non-null  float64\n",
      " 3   year_of_loan              15000 non-null  int64  \n",
      " 4   interest                  15000 non-null  float64\n",
      " 5   monthly_payment           15000 non-null  float64\n",
      " 6   class                     15000 non-null  object \n",
      " 7   employer_type             15000 non-null  object \n",
      " 8   industry                  15000 non-null  object \n",
      " 9   work_year                 14100 non-null  object \n",
      " 10  house_exist               15000 non-null  int64  \n",
      " 11  censor_status             15000 non-null  int64  \n",
      " 12  issue_date                15000 non-null  object \n",
      " 13  use                       15000 non-null  int64  \n",
      " 14  post_code                 15000 non-null  int64  \n",
      " 15  region                    15000 non-null  int64  \n",
      " 16  debt_loan_ratio           15000 non-null  float64\n",
      " 17  del_in_18month            15000 non-null  int64  \n",
      " 18  scoring_low               15000 non-null  float64\n",
      " 19  scoring_high              15000 non-null  float64\n",
      " 20  known_outstanding_loan    15000 non-null  int64  \n",
      " 21  known_dero                15000 non-null  int64  \n",
      " 22  pub_dero_bankrup          14989 non-null  float64\n",
      " 23  recircle_b                15000 non-null  float64\n",
      " 24  recircle_u                15000 non-null  float64\n",
      " 25  initial_list_status       15000 non-null  int64  \n",
      " 26  app_type                  15000 non-null  int64  \n",
      " 27  earlies_credit_mon        15000 non-null  object \n",
      " 28  title                     15000 non-null  int64  \n",
      " 29  policy_code               15000 non-null  int64  \n",
      " 30  f0                        14243 non-null  float64\n",
      " 31  f1                        13688 non-null  float64\n",
      " 32  f2                        14243 non-null  float64\n",
      " 33  f3                        14243 non-null  float64\n",
      " 34  f4                        14243 non-null  float64\n",
      " 35  early_return              15000 non-null  int64  \n",
      " 36  early_return_amount       15000 non-null  int64  \n",
      " 37  early_return_amount_3mon  15000 non-null  float64\n",
      " 38  is_default                15000 non-null  int64  \n",
      "dtypes: float64(15), int64(18), object(6)\n",
      "memory usage: 4.6+ MB\n"
     ]
    }
   ],
   "source": [
    "total_df = data_bank.append(data_test)\n",
    "total_df.info()"
   ],
   "metadata": {
    "collapsed": false,
    "pycharm": {
     "name": "#%%\n"
    }
   }
  },
  {
   "cell_type": "markdown",
   "source": [
    "## 预处理"
   ],
   "metadata": {
    "collapsed": false,
    "pycharm": {
     "name": "#%% md\n"
    }
   }
  },
  {
   "cell_type": "code",
   "execution_count": 74,
   "outputs": [],
   "source": [
    "# total_df.select_dtypes('object').columns #'industry', 'issue_date', 'work_year', 'earlies_credit_mon', 'class','employer_type'\n",
    "\n",
    "from sklearn.preprocessing import OrdinalEncoder\n",
    "import re\n",
    "\n",
    "# industry\n",
    "oen = OrdinalEncoder()\n",
    "total_df[['industry']] = oen.fit_transform(total_df[['industry']])\n",
    "\n",
    "# class\n",
    "class_dict = {\n",
    "    'A': 1,\n",
    "    'B': 2,\n",
    "    'C': 3,\n",
    "    'D': 4,\n",
    "    'E': 5,\n",
    "    'F': 6,\n",
    "    'G': 7,\n",
    "}\n",
    "total_df['class'] = total_df['class'].map(class_dict)\n",
    "\n",
    "\n",
    "# employer_type，不再顺序编码，而是one-hot编码\n",
    "# employer_type_dict = {\n",
    "#     '政府机构': 5,\n",
    "#     '世界五百强': 4,\n",
    "#     '上市企业': 3,\n",
    "#     '高等教育机构': 2,\n",
    "#     '普通企业': 1,\n",
    "#     '幼教与中小学校': 0\n",
    "# }\n",
    "#\n",
    "# total_df.employer_type = total_df.employer_type.map(employer_type_dict)\n",
    "def findDig(val):\n",
    "    fd = re.search('(\\d+-)', val)\n",
    "    if fd is None:\n",
    "        return '1-' + val\n",
    "    else:\n",
    "        return val + '-01'\n",
    "\n",
    "\n",
    "total_df.earlies_credit_mon = pd.to_datetime(total_df.earlies_credit_mon.map(findDig))\n",
    "\n",
    "\n",
    "# work_year\n",
    "def workYearDic(x):\n",
    "    if str(x) == 'nan':\n",
    "        return -1\n",
    "    if str(x) == '10+ years':\n",
    "        return 15\n",
    "    x = x.replace('< 1', '0')\n",
    "    return int(re.search('(\\d+)', x).group())\n",
    "\n",
    "\n",
    "total_df.work_year = total_df.work_year.map(workYearDic)\n",
    "\n",
    "# issue_date\n",
    "total_df.issue_date = pd.to_datetime(total_df.issue_date)"
   ],
   "metadata": {
    "collapsed": false,
    "pycharm": {
     "name": "#%%\n"
    }
   }
  },
  {
   "cell_type": "markdown",
   "source": [
    "## 特征工程\n",
    "* 时间特征\n",
    "* post_code对interest的特征和对early return amount, early return amount 3mon, monthly payment的特征\n",
    "* employer type独热编码\n",
    "* credit item( monthly payment / total_loan特征)\n",
    "* revenue( total_loan / debt_loan_ratio特征)\n",
    "* post_code 对 revenue特征"
   ],
   "metadata": {
    "collapsed": false,
    "pycharm": {
     "name": "#%% md\n"
    }
   }
  },
  {
   "cell_type": "code",
   "execution_count": 75,
   "outputs": [],
   "source": [
    "##时间特征\n",
    "total_df['issue_date_year'] = total_df['issue_date'].dt.year\n",
    "total_df['issue_date_mon'] = total_df['issue_date'].dt.month\n",
    "\n",
    "total_df['earlies_credit_year'] = total_df['earlies_credit_mon'].dt.year\n",
    "total_df['earlies_credit_mon'] = total_df['earlies_credit_mon'].dt.month"
   ],
   "metadata": {
    "collapsed": false,
    "pycharm": {
     "name": "#%%\n"
    }
   }
  },
  {
   "cell_type": "code",
   "execution_count": 76,
   "outputs": [
    {
     "name": "stdout",
     "output_type": "stream",
     "text": [
      "['regionally_mean_of_interest', 'regionally_std_of_interest', 'regionally_mean_of_early_return_amount', 'regionally_std_of_early_return_amount', 'regionally_mean_of_early_return_amount_3mon', 'regionally_std_of_early_return_amount_3mon', 'regionally_mean_of_monthly_payment', 'regionally_std_of_monthly_payment', 'regionally_mean_of_user_id', 'regionally_std_of_user_id'] 10\n"
     ]
    }
   ],
   "source": [
    "# post_code对interst、 early return amount, early return amount 3mon, monthly payment 特征 mean, std\n",
    "region_feats = []\n",
    "for col in ['interest', 'early_return_amount', 'early_return_amount_3mon', 'monthly_payment', 'user_id']:\n",
    "    for sta in ['mean', 'std']:\n",
    "        total_df[f'regionally_{sta}_of_{col}'] = total_df.groupby(['post_code'])[col].transform(sta)\n",
    "\n",
    "        region_feats.append(f'regionally_{sta}_of_{col}')\n",
    "print(region_feats, len(region_feats))"
   ],
   "metadata": {
    "collapsed": false,
    "pycharm": {
     "name": "#%%\n"
    }
   }
  },
  {
   "cell_type": "code",
   "execution_count": 77,
   "outputs": [],
   "source": [
    "import seaborn as sns\n",
    "# f, ax = plt.subplots(2,5, figsize = (24,10))\n",
    "# # print(ax[1,0])\n",
    "# i = 0\n",
    "# for i, col in enumerate(['interest','early_return_amount','early_return_amount_3mon','monthly_payment','user_id']):\n",
    "#     for j, sta in enumerate(['mean','std']):\n",
    "#         sns.lmplot(x = total_df[[f'regionally_{sta}_of_{col}']], y = total_df.is_default, hue = total_df.is_default, data = data_bank)\n",
    "#         # plt.legend()\n",
    "# plt.show()\n",
    "\n",
    "# sns.catplot(x = 'regionally_mean_of_interest', y = 'is_default', data = total_df[total_df.is_default!=-1], kind = 'box')\n"
   ],
   "metadata": {
    "collapsed": false,
    "pycharm": {
     "name": "#%%\n"
    }
   }
  },
  {
   "cell_type": "code",
   "execution_count": 78,
   "outputs": [],
   "source": [
    "# total_df[region_feats].fillna(0, inplace = True)\n",
    "# total_df[region_feats].isnull().sum()\n",
    "\n",
    "# from sklearn.feature_selection import mutual_info_classif\n",
    "# mutual_info_classif(total_df[region_feats], total_df.is_default)\n",
    "\n"
   ],
   "metadata": {
    "collapsed": false,
    "pycharm": {
     "name": "#%%\n"
    }
   }
  },
  {
   "cell_type": "code",
   "execution_count": 79,
   "outputs": [
    {
     "name": "stdout",
     "output_type": "stream",
     "text": [
      "<class 'pandas.core.frame.DataFrame'>\n",
      "Int64Index: 15000 entries, 0 to 4999\n",
      "Data columns (total 6 columns):\n",
      " #   Column            Non-Null Count  Dtype\n",
      "---  ------            --------------  -----\n",
      " 0   industry_上市企业     15000 non-null  uint8\n",
      " 1   industry_世界五百强    15000 non-null  uint8\n",
      " 2   industry_幼教与中小学校  15000 non-null  uint8\n",
      " 3   industry_政府机构     15000 non-null  uint8\n",
      " 4   industry_普通企业     15000 non-null  uint8\n",
      " 5   industry_高等教育机构   15000 non-null  uint8\n",
      "dtypes: uint8(6)\n",
      "memory usage: 205.1 KB\n"
     ]
    }
   ],
   "source": [
    "# 对employer-type 进行one-hot 编码\n",
    "\n",
    "from sklearn.preprocessing import OneHotEncoder\n",
    "\n",
    "# ohe = OneH2otEncoder(handle_unknown='ignore', sparse=False)\n",
    "# employer_type_matrix =pd.DataFrame(ohe.fit_transform(total_df[['employer_type']]))\n",
    "# employer_type_matrix\n",
    "\n",
    "employer_type_matrix = pd.get_dummies(total_df['employer_type'], prefix='industry')\n",
    "employer_type_matrix.index = total_df.index\n",
    "employer_type_matrix.info()\n",
    "total_df = pd.concat([total_df, employer_type_matrix], axis=1)"
   ],
   "metadata": {
    "collapsed": false,
    "pycharm": {
     "name": "#%%\n"
    }
   }
  },
  {
   "cell_type": "code",
   "execution_count": 80,
   "outputs": [
    {
     "data": {
      "text/plain": "<Figure size 432x288 with 1 Axes>",
      "image/png": "[encoded data removed]"
     },
     "metadata": {
      "needs_background": "light"
     },
     "output_type": "display_data"
    }
   ],
   "source": [
    "# credit_item\n",
    "total_df['credit_item'] = total_df['monthly_payment'] / total_df['total_loan']\n",
    "sns.distplot(total_df[total_df['is_default'] == 1]['credit_item'], label='default')\n",
    "sns.distplot(total_df[total_df['is_default'] == 0]['credit_item'], label='notdefault')\n",
    "plt.legend()\n",
    "plt.show()"
   ],
   "metadata": {
    "collapsed": false,
    "pycharm": {
     "name": "#%%\n"
    }
   }
  },
  {
   "cell_type": "code",
   "execution_count": 81,
   "outputs": [
    {
     "data": {
      "text/plain": "<Figure size 432x288 with 1 Axes>",
      "image/png": "[encoded data removed]"
     },
     "metadata": {
      "needs_background": "light"
     },
     "output_type": "display_data"
    },
    {
     "name": "stdout",
     "output_type": "stream",
     "text": [
      "<class 'pandas.core.frame.DataFrame'>\n",
      "Int64Index: 15000 entries, 0 to 4999\n",
      "Data columns (total 60 columns):\n",
      " #   Column                                       Non-Null Count  Dtype         \n",
      "---  ------                                       --------------  -----         \n",
      " 0   loan_id                                      15000 non-null  int64         \n",
      " 1   user_id                                      15000 non-null  int64         \n",
      " 2   total_loan                                   15000 non-null  float64       \n",
      " 3   year_of_loan                                 15000 non-null  int64         \n",
      " 4   interest                                     15000 non-null  float64       \n",
      " 5   monthly_payment                              15000 non-null  float64       \n",
      " 6   class                                        15000 non-null  int64         \n",
      " 7   employer_type                                15000 non-null  object        \n",
      " 8   industry                                     15000 non-null  float64       \n",
      " 9   work_year                                    15000 non-null  int64         \n",
      " 10  house_exist                                  15000 non-null  int64         \n",
      " 11  censor_status                                15000 non-null  int64         \n",
      " 12  issue_date                                   15000 non-null  datetime64[ns]\n",
      " 13  use                                          15000 non-null  int64         \n",
      " 14  post_code                                    15000 non-null  int64         \n",
      " 15  region                                       15000 non-null  int64         \n",
      " 16  debt_loan_ratio                              15000 non-null  float64       \n",
      " 17  del_in_18month                               15000 non-null  int64         \n",
      " 18  scoring_low                                  15000 non-null  float64       \n",
      " 19  scoring_high                                 15000 non-null  float64       \n",
      " 20  known_outstanding_loan                       15000 non-null  int64         \n",
      " 21  known_dero                                   15000 non-null  int64         \n",
      " 22  pub_dero_bankrup                             14989 non-null  float64       \n",
      " 23  recircle_b                                   15000 non-null  float64       \n",
      " 24  recircle_u                                   15000 non-null  float64       \n",
      " 25  initial_list_status                          15000 non-null  int64         \n",
      " 26  app_type                                     15000 non-null  int64         \n",
      " 27  earlies_credit_mon                           15000 non-null  int64         \n",
      " 28  title                                        15000 non-null  int64         \n",
      " 29  policy_code                                  15000 non-null  int64         \n",
      " 30  f0                                           14243 non-null  float64       \n",
      " 31  f1                                           13688 non-null  float64       \n",
      " 32  f2                                           14243 non-null  float64       \n",
      " 33  f3                                           14243 non-null  float64       \n",
      " 34  f4                                           14243 non-null  float64       \n",
      " 35  early_return                                 15000 non-null  int64         \n",
      " 36  early_return_amount                          15000 non-null  int64         \n",
      " 37  early_return_amount_3mon                     15000 non-null  float64       \n",
      " 38  is_default                                   15000 non-null  int64         \n",
      " 39  issue_date_year                              15000 non-null  int64         \n",
      " 40  issue_date_mon                               15000 non-null  int64         \n",
      " 41  earlies_credit_year                          15000 non-null  int64         \n",
      " 42  regionally_mean_of_interest                  15000 non-null  float64       \n",
      " 43  regionally_std_of_interest                   14946 non-null  float64       \n",
      " 44  regionally_mean_of_early_return_amount       15000 non-null  float64       \n",
      " 45  regionally_std_of_early_return_amount        14946 non-null  float64       \n",
      " 46  regionally_mean_of_early_return_amount_3mon  15000 non-null  float64       \n",
      " 47  regionally_std_of_early_return_amount_3mon   14946 non-null  float64       \n",
      " 48  regionally_mean_of_monthly_payment           15000 non-null  float64       \n",
      " 49  regionally_std_of_monthly_payment            14946 non-null  float64       \n",
      " 50  regionally_mean_of_user_id                   15000 non-null  float64       \n",
      " 51  regionally_std_of_user_id                    14946 non-null  float64       \n",
      " 52  industry_上市企业                                15000 non-null  uint8         \n",
      " 53  industry_世界五百强                               15000 non-null  uint8         \n",
      " 54  industry_幼教与中小学校                             15000 non-null  uint8         \n",
      " 55  industry_政府机构                                15000 non-null  uint8         \n",
      " 56  industry_普通企业                                15000 non-null  uint8         \n",
      " 57  industry_高等教育机构                              15000 non-null  uint8         \n",
      " 58  credit_item                                  15000 non-null  float64       \n",
      " 59  revenue                                      14983 non-null  float64       \n",
      "dtypes: datetime64[ns](1), float64(28), int64(24), object(1), uint8(6)\n",
      "memory usage: 6.4+ MB\n"
     ]
    }
   ],
   "source": [
    "# revenue\n",
    "total_df['revenue'] = total_df['total_loan'] / (total_df['debt_loan_ratio'] / 12)\n",
    "\n",
    "total_df['revenue'] = total_df['revenue'].replace(np.inf, np.nan)\n",
    "\n",
    "sns.distplot(total_df[total_df['is_default'] == 1]['revenue'], label='default')\n",
    "sns.distplot(total_df[total_df['is_default'] == 0]['revenue'], label='notdefault')\n",
    "plt.legend()\n",
    "plt.show()\n",
    "total_df['revenue'].describe()\n",
    "total_df.info()"
   ],
   "metadata": {
    "collapsed": false,
    "pycharm": {
     "name": "#%%\n"
    }
   }
  },
  {
   "cell_type": "code",
   "execution_count": 82,
   "outputs": [],
   "source": [
    "total_df['regionally_mean_of_revenue'] = total_df.groupby(['post_code'])['revenue'].transform('mean')\n",
    "# sns.distplot(total_df['regionally_mean_of_revenue'])"
   ],
   "metadata": {
    "collapsed": false,
    "pycharm": {
     "name": "#%%\n"
    }
   }
  },
  {
   "cell_type": "markdown",
   "source": [
    "## 模型选择"
   ],
   "metadata": {
    "collapsed": false,
    "pycharm": {
     "name": "#%% md\n"
    }
   }
  },
  {
   "cell_type": "code",
   "execution_count": 83,
   "outputs": [],
   "source": [
    "from sklearn.model_selection import cross_val_score\n",
    "# LR, RF, xgboost, lightgbm,SVM\n",
    "from sklearn.linear_model import LogisticRegression\n",
    "from sklearn.ensemble import RandomForestClassifier\n",
    "from xgboost import XGBClassifier\n",
    "from lightgbm import LGBMClassifier\n",
    "from sklearn.svm import SVC\n",
    "from warnings import filterwarnings\n",
    "import sklearn\n",
    "from sklearn.pipeline import Pipeline\n",
    "from sklearn.impute import SimpleImputer\n",
    "filterwarnings('ignore')\n",
    "\n",
    "#sklearn.metrics.SCORERS.keys() ['explained_variance', 'r2', 'max_error', 'neg_median_absolute_error', 'neg_mean_absolute_error', 'neg_mean_absolute_percentage_error', 'neg_mean_squared_error', 'neg_mean_squared_log_error', 'neg_root_mean_squared_error', 'neg_mean_poisson_deviance', 'neg_mean_gamma_deviance', 'accuracy', 'top_k_accuracy', 'roc_auc', 'roc_auc_ovr', 'roc_auc_ovo', 'roc_auc_ovr_weighted', 'roc_auc_ovo_weighted', 'balanced_accuracy', 'average_precision', 'neg_log_loss', 'neg_brier_score', 'adjusted_rand_score', 'rand_score', 'homogeneity_score', 'completeness_score', 'v_measure_score', 'mutual_info_score', 'adjusted_mutual_info_score', 'normalized_mutual_info_score', 'fowlkes_mallows_score', 'precision', 'precision_macro', 'precision_micro', 'precision_samples', 'precision_weighted', 'recall', 'recall_macro', 'recall_micro', 'recall_samples', 'recall_weighted', 'f1', 'f1_macro', 'f1_micro', 'f1_samples', 'f1_weighted', 'jaccard', 'jaccard_macro', 'jaccard_micro', 'jaccard_samples', 'jaccard_weighted']\n",
    "# lr = LogisticRegression()\n",
    "# rf = RandomForestClassifier()\n",
    "# xgb = XGBClassifier()\n",
    "# lgb = LGBMClassifier()\n",
    "# svc = SVC()\n",
    "# def select_model(models):\n",
    "#     for i, model in enumerate(models):\n",
    "#         scores = cross_val_score(model, feats, target, cv = 5, scoring = 'roc_auc')\n",
    "#         print(f'第{i+1}个模型', scores.mean())\n",
    "#\n",
    "#\n",
    "# models = [lr, rf, xgb, lgb, svc]\n",
    "# select_model(models)"
   ],
   "metadata": {
    "collapsed": false,
    "pycharm": {
     "name": "#%%\n"
    }
   }
  },
  {
   "cell_type": "markdown",
   "source": [
    "## 模型训练"
   ],
   "metadata": {
    "collapsed": false,
    "pycharm": {
     "name": "#%% md\n"
    }
   }
  },
  {
   "cell_type": "code",
   "execution_count": 89,
   "outputs": [],
   "source": [
    "from lightgbm import LGBMClassifier\n",
    "from sklearn.metrics import roc_auc_score\n",
    "\n",
    "\n",
    "def train_model(df, test_df, kfold):\n",
    "    sub_preds = np.zeros(test_df.shape[0])\n",
    "    feats = df.copy()\n",
    "    target = feats.pop('is_default')\n",
    "    test_feats = test_df.copy()\n",
    "    for train_idx, valid_idx in kfold.split(df):\n",
    "        train_X, train_y = feats.iloc[train_idx], target.iloc[train_idx]\n",
    "        valid_X, valid_y = feats.iloc[valid_idx], target.iloc[valid_idx]\n",
    "        random_seed = np.random.randint(0, 100000)\n",
    "        print('random seed: ', random_seed)\n",
    "        clf = LGBMClassifier(\n",
    "            n_estimators=4000,\n",
    "            learning_rate=0.01,\n",
    "            num_leaves=2 ** 4,\n",
    "            colsample_bytree=.65,\n",
    "            subsample=.9,\n",
    "            max_depth=5,  #原本是5\n",
    "            reg_alpha=.3,\n",
    "            reg_lambda=.3,\n",
    "            min_split_gain=.01,\n",
    "            min_child_weight=2,\n",
    "            silent=-1,\n",
    "            verbose=-1,\n",
    "            min_child_samples = 50,\n",
    "            random_seed=random_seed\n",
    "        )\n",
    "        clf.fit(train_X, train_y, eval_set=[(train_X, train_y), (valid_X, valid_y)], early_stopping_rounds=30,\n",
    "                eval_metric='auc', verbose=0)\n",
    "        print('clf best score:', clf.best_score_, 'clf best iteration:', clf.best_iteration_)\n",
    "        sub_preds += clf.predict_proba(test_feats)[:, 1]\n",
    "    sub_preds = sub_preds / kfold.n_splits\n",
    "    pred = pd.DataFrame({'id': test_df.loan_id, 'isDefault': sub_preds})\n",
    "    return pred\n"
   ],
   "metadata": {
    "collapsed": false,
    "pycharm": {
     "name": "#%%\n"
    }
   }
  },
  {
   "cell_type": "code",
   "execution_count": 90,
   "outputs": [
    {
     "name": "stdout",
     "output_type": "stream",
     "text": [
      "random seed:  82430\n",
      "clf best score: defaultdict(<class 'collections.OrderedDict'>, {'training': OrderedDict([('auc', 0.8993589529379004), ('binary_logloss', 0.37676534330267747)]), 'valid_1': OrderedDict([('auc', 0.8692009345878572), ('binary_logloss', 0.3812139015113364)])}) clf best iteration: 39\n",
      "random seed:  18270\n",
      "clf best score: defaultdict(<class 'collections.OrderedDict'>, {'training': OrderedDict([('auc', 0.9264613182130739), ('binary_logloss', 0.2593156917552399)]), 'valid_1': OrderedDict([('auc', 0.8917183100529592), ('binary_logloss', 0.2985773862787696)])}) clf best iteration: 431\n",
      "random seed:  58153\n",
      "clf best score: defaultdict(<class 'collections.OrderedDict'>, {'training': OrderedDict([('auc', 0.9182434532586773), ('binary_logloss', 0.27452372718675594)]), 'valid_1': OrderedDict([('auc', 0.8919265087157988), ('binary_logloss', 0.3052777379375896)])}) clf best iteration: 279\n",
      "random seed:  67678\n",
      "clf best score: defaultdict(<class 'collections.OrderedDict'>, {'training': OrderedDict([('auc', 0.9092884097255531), ('binary_logloss', 0.3029653293572996)]), 'valid_1': OrderedDict([('auc', 0.8716248139880952), ('binary_logloss', 0.31845179181263494)])}) clf best iteration: 148\n",
      "random seed:  95541\n",
      "clf best score: defaultdict(<class 'collections.OrderedDict'>, {'training': OrderedDict([('auc', 0.9156474685349046), ('binary_logloss', 0.2773944511012841)]), 'valid_1': OrderedDict([('auc', 0.8814181400688863), ('binary_logloss', 0.2977277695596235)])}) clf best iteration: 281\n"
     ]
    },
    {
     "data": {
      "text/plain": "           id  isDefault\n0     1000575   0.049220\n1     1028125   0.081923\n2     1010694   0.043421\n3     1026712   0.042037\n4     1002895   0.045317\n...       ...        ...\n4995  1008856   0.345132\n4996  1016651   0.051936\n4997  1024140   0.041419\n4998  1014316   0.049007\n4999  1012946   0.041606\n\n[5000 rows x 2 columns]",
      "text/html": "<div>\n<style scoped>\n    .dataframe tbody tr th:only-of-type {\n        vertical-align: middle;\n    }\n\n    .dataframe tbody tr th {\n        vertical-align: top;\n    }\n\n    .dataframe thead th {\n        text-align: right;\n    }\n</style>\n<table border=\"1\" class=\"dataframe\">\n  <thead>\n    <tr style=\"text-align: right;\">\n      <th></th>\n      <th>id</th>\n      <th>isDefault</th>\n    </tr>\n  </thead>\n  <tbody>\n    <tr>\n      <th>0</th>\n      <td>1000575</td>\n      <td>0.049220</td>\n    </tr>\n    <tr>\n      <th>1</th>\n      <td>1028125</td>\n      <td>0.081923</td>\n    </tr>\n    <tr>\n      <th>2</th>\n      <td>1010694</td>\n      <td>0.043421</td>\n    </tr>\n    <tr>\n      <th>3</th>\n      <td>1026712</td>\n      <td>0.042037</td>\n    </tr>\n    <tr>\n      <th>4</th>\n      <td>1002895</td>\n      <td>0.045317</td>\n    </tr>\n    <tr>\n      <th>...</th>\n      <td>...</td>\n      <td>...</td>\n    </tr>\n    <tr>\n      <th>4995</th>\n      <td>1008856</td>\n      <td>0.345132</td>\n    </tr>\n    <tr>\n      <th>4996</th>\n      <td>1016651</td>\n      <td>0.051936</td>\n    </tr>\n    <tr>\n      <th>4997</th>\n      <td>1024140</td>\n      <td>0.041419</td>\n    </tr>\n    <tr>\n      <th>4998</th>\n      <td>1014316</td>\n      <td>0.049007</td>\n    </tr>\n    <tr>\n      <th>4999</th>\n      <td>1012946</td>\n      <td>0.041606</td>\n    </tr>\n  </tbody>\n</table>\n<p>5000 rows × 2 columns</p>\n</div>"
     },
     "execution_count": 90,
     "metadata": {},
     "output_type": "execute_result"
    }
   ],
   "source": [
    "from sklearn.model_selection import KFold\n",
    "\n",
    "kfold = KFold(n_splits=5, shuffle=True, random_state=2021)\n",
    "df = total_df[total_df['is_default'] != -1].drop(['employer_type', 'issue_date'], axis=1)\n",
    "test_df = total_df[total_df['is_default'] == -1].drop(['employer_type', 'is_default', 'issue_date'], axis=1)\n",
    "\n",
    "feats = df.copy()\n",
    "target = feats.pop('is_default')\n",
    "test_feats = test_df.copy()\n",
    "# test_df.info()\n",
    "# df.info()\n",
    "pred = train_model(df, test_df, kfold=kfold)\n",
    "pred"
   ],
   "metadata": {
    "collapsed": false,
    "pycharm": {
     "name": "#%%\n"
    }
   }
  },
  {
   "cell_type": "code",
   "execution_count": 86,
   "outputs": [],
   "source": [
    "pred.to_csv('./lightgbm_单表+6特征.csv', index=False)"
   ],
   "metadata": {
    "collapsed": false,
    "pycharm": {
     "name": "#%%\n"
    }
   }
  }
 ],
 "metadata": {
  "kernelspec": {
   "display_name": "Python 3",
   "language": "python",
   "name": "python3"
  },
  "language_info": {
   "codemirror_mode": {
    "name": "ipython",
    "version": 2
   },
   "file_extension": ".py",
   "mimetype": "text/x-python",
   "name": "python",
   "nbconvert_exporter": "python",
   "pygments_lexer": "ipython2",
   "version": "2.7.6"
  }
 },
 "nbformat": 4,
 "nbformat_minor": 0
}